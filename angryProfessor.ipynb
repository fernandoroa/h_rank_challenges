{
 "cells": [
  {
   "cell_type": "code",
   "execution_count": null,
   "metadata": {},
   "outputs": [],
   "source": [
    "def angryProfessor(k, a):\n",
    "    ontime = list(filter(lambda a: a <= 0, a))\n",
    "    len_ontime = len(ontime)\n",
    "    if len_ontime >= k:\n",
    "      return \"NO\"\n",
    "    else:\n",
    "      return \"YES\""
   ]
  }
 ],
 "metadata": {
  "language_info": {
   "name": "python"
  }
 },
 "nbformat": 4,
 "nbformat_minor": 2
}
