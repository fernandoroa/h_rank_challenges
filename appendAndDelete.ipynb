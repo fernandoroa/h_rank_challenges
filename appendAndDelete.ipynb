{
 "cells": [
  {
   "cell_type": "markdown",
   "metadata": {},
   "source": [
    "[https://www.hackerrank.com/challenges/append-and-delete/problem](https://www.hackerrank.com/challenges/append-and-delete/problem)"
   ]
  },
  {
   "cell_type": "code",
   "execution_count": 138,
   "metadata": {},
   "outputs": [],
   "source": [
    "def appendAndDelete(s, t, k):\n",
    "    for i in range(len(s)):\n",
    "      if len(t) >= i + 1:\n",
    "        if s[i] != t[i]:\n",
    "          i -= 1\n",
    "          break\n",
    "      else:\n",
    "        break\n",
    "    diff1 = len(s) - len(s[0:i+1]) \n",
    "    diff2 = len(t) - len(s[0:i+1])\n",
    "    diffs = diff1 + diff2\n",
    "    if diffs == k or (diffs < k and ((diffs - k) % 2 == 0)) or (len(t) + len(s)) <= k:\n",
    "      return \"Yes\"\n",
    "    else:\n",
    "      return \"No\"\n"
   ]
  },
  {
   "cell_type": "code",
   "execution_count": 139,
   "metadata": {},
   "outputs": [
    {
     "data": {
      "text/plain": [
       "'Yes'"
      ]
     },
     "execution_count": 139,
     "metadata": {},
     "output_type": "execute_result"
    }
   ],
   "source": [
    "appendAndDelete(\"aba\", \"aba\", 7)\n"
   ]
  },
  {
   "cell_type": "code",
   "execution_count": 140,
   "metadata": {},
   "outputs": [
    {
     "data": {
      "text/plain": [
       "'No'"
      ]
     },
     "execution_count": 140,
     "metadata": {},
     "output_type": "execute_result"
    }
   ],
   "source": [
    "appendAndDelete(\"ashley\", \"ash\", 2)"
   ]
  },
  {
   "cell_type": "code",
   "execution_count": 142,
   "metadata": {},
   "outputs": [
    {
     "data": {
      "text/plain": [
       "'No'"
      ]
     },
     "execution_count": 142,
     "metadata": {},
     "output_type": "execute_result"
    }
   ],
   "source": [
    "appendAndDelete(\"hackerhappy\", \"hackerrank\", 8)\n"
   ]
  },
  {
   "cell_type": "code",
   "execution_count": 143,
   "metadata": {},
   "outputs": [
    {
     "data": {
      "text/plain": [
       "'Yes'"
      ]
     },
     "execution_count": 143,
     "metadata": {},
     "output_type": "execute_result"
    }
   ],
   "source": [
    "appendAndDelete(\"abcd\", \"abcdert\", 9)\n"
   ]
  },
  {
   "cell_type": "code",
   "execution_count": 144,
   "metadata": {},
   "outputs": [
    {
     "data": {
      "text/plain": [
       "'No'"
      ]
     },
     "execution_count": 144,
     "metadata": {},
     "output_type": "execute_result"
    }
   ],
   "source": [
    "appendAndDelete(\"qwerasdf\", \"qwerbsdf\", 6)\n"
   ]
  },
  {
   "cell_type": "code",
   "execution_count": null,
   "metadata": {},
   "outputs": [],
   "source": []
  }
 ],
 "metadata": {
  "kernelspec": {
   "display_name": "Python 3",
   "language": "python",
   "name": "python3"
  },
  "language_info": {
   "codemirror_mode": {
    "name": "ipython",
    "version": 3
   },
   "file_extension": ".py",
   "mimetype": "text/x-python",
   "name": "python",
   "nbconvert_exporter": "python",
   "pygments_lexer": "ipython3",
   "version": "3.12.3"
  }
 },
 "nbformat": 4,
 "nbformat_minor": 2
}
