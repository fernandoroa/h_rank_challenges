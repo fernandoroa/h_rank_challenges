{
 "cells": [
  {
   "cell_type": "markdown",
   "metadata": {},
   "source": [
    "[https://www.hackerrank.com/challenges/climbing-the-leaderboard/problem](https://www.hackerrank.com/challenges/climbing-the-leaderboard/problem)"
   ]
  },
  {
   "cell_type": "code",
   "execution_count": 46,
   "metadata": {},
   "outputs": [
    {
     "name": "stdout",
     "output_type": "stream",
     "text": [
      "[10, 20, 40, 50, 100]\n"
     ]
    },
    {
     "data": {
      "text/plain": [
       "[6, 4, 2, 1]"
      ]
     },
     "execution_count": 46,
     "metadata": {},
     "output_type": "execute_result"
    }
   ],
   "source": [
    "item = 8\n",
    "ranked =  [100,90,90,80]\n",
    "player = [70,80,105]\n",
    "ranked = [100, 100, 50, 40, 40, 20, 10]\n",
    "player = [5, 25, 50, 120]\n",
    "\n",
    "climbingLeaderboard(ranked, player)\n"
   ]
  },
  {
   "cell_type": "code",
   "execution_count": 44,
   "metadata": {},
   "outputs": [],
   "source": [
    "\n",
    "#from sortedcontainers import SortedSet\n",
    "from bisect import bisect\n",
    "\n",
    "def climbingLeaderboard(ranked, player):\n",
    "#  ss = SortedSet(ranked)\n",
    "  ss = sorted(set(ranked))\n",
    "  print(ss)\n",
    "  len_ranked = len(ss)\n",
    "  array = []\n",
    "  for item in player:\n",
    "    inv_pos = bisect(ss, item)\n",
    "    pos = len_ranked - inv_pos\n",
    "    array.append(pos+1)\n",
    "  return array\n"
   ]
  },
  {
   "cell_type": "code",
   "execution_count": null,
   "metadata": {},
   "outputs": [],
   "source": []
  }
 ],
 "metadata": {
  "kernelspec": {
   "display_name": "Python 3",
   "language": "python",
   "name": "python3"
  },
  "language_info": {
   "codemirror_mode": {
    "name": "ipython",
    "version": 3
   },
   "file_extension": ".py",
   "mimetype": "text/x-python",
   "name": "python",
   "nbconvert_exporter": "python",
   "pygments_lexer": "ipython3",
   "version": "3.11.4"
  }
 },
 "nbformat": 4,
 "nbformat_minor": 2
}
