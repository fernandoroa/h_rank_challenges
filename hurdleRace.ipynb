{
 "cells": [
  {
   "cell_type": "markdown",
   "metadata": {},
   "source": [
    "[https://www.hackerrank.com/challenges/the-hurdle-race/problem](https://www.hackerrank.com/challenges/the-hurdle-race/problem)"
   ]
  },
  {
   "cell_type": "code",
   "execution_count": null,
   "metadata": {},
   "outputs": [],
   "source": [
    "def hurdleRace(k, height):\n",
    "    max_height = max(height)\n",
    "    if k >= max_height:\n",
    "      return 0\n",
    "    else:\n",
    "      return max_height - k"
   ]
  }
 ],
 "metadata": {
  "language_info": {
   "name": "python"
  }
 },
 "nbformat": 4,
 "nbformat_minor": 2
}
