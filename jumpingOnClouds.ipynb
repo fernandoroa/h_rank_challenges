{
 "cells": [
  {
   "cell_type": "code",
   "execution_count": 2,
   "metadata": {},
   "outputs": [],
   "source": [
    "c = [0, 0, 1, 0, 0, 1, 1, 0]\n",
    "k = 2"
   ]
  },
  {
   "cell_type": "code",
   "execution_count": 69,
   "metadata": {},
   "outputs": [],
   "source": [
    "import math\n",
    "def jumpingOnClouds(c, k):\n",
    "  len_c = len(c)\n",
    "  e = 100\n",
    "  cont = True\n",
    "  step = 0\n",
    "  while cont:\n",
    "    step += 1\n",
    "    real_pos = (step * k) % len_c\n",
    "    cloud_value = c[real_pos]\n",
    "    e -= 1\n",
    "    if cloud_value == 1:\n",
    "      e -= 2\n",
    "    if real_pos == 0:\n",
    "      cont = False\n",
    "  return e"
   ]
  },
  {
   "cell_type": "code",
   "execution_count": 19,
   "metadata": {},
   "outputs": [
    {
     "data": {
      "text/plain": [
       "2"
      ]
     },
     "execution_count": 19,
     "metadata": {},
     "output_type": "execute_result"
    }
   ],
   "source": []
  },
  {
   "cell_type": "code",
   "execution_count": 70,
   "metadata": {},
   "outputs": [
    {
     "data": {
      "text/plain": [
       "80"
      ]
     },
     "execution_count": 70,
     "metadata": {},
     "output_type": "execute_result"
    }
   ],
   "source": [
    "c = [1, 1, 1, 0, 1, 1, 0, 0, 0, 0]\n",
    "k = 3\n",
    "jumpingOnClouds(c,k)"
   ]
  },
  {
   "cell_type": "code",
   "execution_count": 61,
   "metadata": {},
   "outputs": [],
   "source": []
  }
 ],
 "metadata": {
  "kernelspec": {
   "display_name": "Python 3",
   "language": "python",
   "name": "python3"
  },
  "language_info": {
   "codemirror_mode": {
    "name": "ipython",
    "version": 3
   },
   "file_extension": ".py",
   "mimetype": "text/x-python",
   "name": "python",
   "nbconvert_exporter": "python",
   "pygments_lexer": "ipython3",
   "version": "3.11.4"
  }
 },
 "nbformat": 4,
 "nbformat_minor": 2
}
