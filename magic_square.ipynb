{
 "cells": [
  {
   "cell_type": "code",
   "execution_count": 62,
   "metadata": {},
   "outputs": [],
   "source": [
    "from itertools import permutations\n",
    "\n",
    "def formingMagicSquare(s):\n",
    "  permu = list(permutations(list(range(1,10)),9))\n",
    "\n",
    "  valid_permu = []\n",
    "  for perm1 in permu:\n",
    "    if sum(perm1[0:3]) == 15:\n",
    "      if sum(perm1[3:6]) == 15:\n",
    "        if sum(perm1[6:9]) == 15:\n",
    "          if sum(list(map(perm1.__getitem__, [0,3,6]))) == 15:\n",
    "            if sum(list(map(perm1.__getitem__, [1,4,7]))) == 15:\n",
    "              if sum(list(map(perm1.__getitem__, [2,5,8]))) == 15:\n",
    "                if sum(list(map(perm1.__getitem__, [0,4,8]))) == 15:\n",
    "                  if sum(list(map(perm1.__getitem__, [2,4,6]))) == 15:\n",
    "                    valid_permu.append(perm1)\n",
    "\n",
    "  flat_list = [x for xs in s for x in xs]\n",
    "  best = 100\n",
    "  for array1 in valid_permu:\n",
    "    subt1 = sum([abs(x - y) for x, y in zip(flat_list, array1)])\n",
    "    if subt1 < best:\n",
    "      best = subt1\n",
    "  return best\n"
   ]
  },
  {
   "cell_type": "code",
   "execution_count": 60,
   "metadata": {},
   "outputs": [],
   "source": [
    "s = [[5, 3, 4], [1, 5, 8], [6, 4, 2]]\n",
    "s = [[5, 3, 4], [1, 5, 8], [6, 4, 2]]     # 7 cost\n",
    "s = [[4, 9, 2], [3, 5, 7], [8, 1, 5]]   # 1 cost\n",
    "s = [[4, 8, 2], [4, 5, 7], [6, 1, 6]]   # 4 cost\n",
    "s = [[4, 5, 8], [2, 4, 1], [1, 9, 7]] # 14 cost, long run!!\n"
   ]
  },
  {
   "cell_type": "code",
   "execution_count": 63,
   "metadata": {},
   "outputs": [
    {
     "data": {
      "text/plain": [
       "14"
      ]
     },
     "execution_count": 63,
     "metadata": {},
     "output_type": "execute_result"
    }
   ],
   "source": [
    "formingMagicSquare(s)"
   ]
  },
  {
   "cell_type": "code",
   "execution_count": 34,
   "metadata": {},
   "outputs": [
    {
     "data": {
      "text/plain": [
       "[1, 5, 9]"
      ]
     },
     "execution_count": 34,
     "metadata": {},
     "output_type": "execute_result"
    }
   ],
   "source": []
  },
  {
   "cell_type": "code",
   "execution_count": null,
   "metadata": {},
   "outputs": [],
   "source": []
  }
 ],
 "metadata": {
  "kernelspec": {
   "display_name": "Python 3",
   "language": "python",
   "name": "python3"
  },
  "language_info": {
   "codemirror_mode": {
    "name": "ipython",
    "version": 3
   },
   "file_extension": ".py",
   "mimetype": "text/x-python",
   "name": "python",
   "nbconvert_exporter": "python",
   "pygments_lexer": "ipython3",
   "version": "3.11.4"
  }
 },
 "nbformat": 4,
 "nbformat_minor": 2
}
