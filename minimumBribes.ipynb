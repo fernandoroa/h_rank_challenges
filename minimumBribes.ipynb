{
 "cells": [
  {
   "cell_type": "markdown",
   "id": "d6cf77c7",
   "metadata": {},
   "source": [
    "https://www.hackerrank.com/challenges/new-year-chaos/problem"
   ]
  },
  {
   "cell_type": "code",
   "execution_count": 1,
   "id": "e1a066c3",
   "metadata": {},
   "outputs": [],
   "source": [
    "class FenwickTree:\n",
    "    def __init__(self, n):\n",
    "        self.tree = [0] * (n + 1)\n",
    "    \n",
    "    def update(self, idx, val):\n",
    "        while idx < len(self.tree):\n",
    "            self.tree[idx] += val\n",
    "            idx += idx & -idx\n",
    "    \n",
    "    def query(self, idx):\n",
    "        total = 0\n",
    "        while idx > 0:\n",
    "            total += self.tree[idx]\n",
    "            idx -= idx & -idx\n",
    "        return total\n",
    "\n",
    "def minimumBribes(q):\n",
    "    sorted_arr = sorted(set(q))\n",
    "    rank_map = {value: idx + 1 for idx, value in enumerate(sorted_arr)}\n",
    "    \n",
    "    n = len(q)\n",
    "    fenwick_tree = FenwickTree(len(rank_map))\n",
    "    result = []\n",
    "    \n",
    "    for i in range(n - 1, -1, -1):\n",
    "        rank = rank_map[q[i]]\n",
    "        count = fenwick_tree.query(rank - 1)\n",
    "        \n",
    "        if count > 2:\n",
    "            return print(\"Too chaotic\")\n",
    "        \n",
    "        result.append(count)\n",
    "        fenwick_tree.update(rank, 1)\n",
    "    \n",
    "    return print(sum(result))"
   ]
  },
  {
   "cell_type": "code",
   "execution_count": 3,
   "id": "ab3639d1",
   "metadata": {},
   "outputs": [
    {
     "name": "stdout",
     "output_type": "stream",
     "text": [
      "1\n"
     ]
    }
   ],
   "source": [
    "minimumBribes([1,2,3,5,4])"
   ]
  },
  {
   "cell_type": "code",
   "execution_count": null,
   "id": "af46519f",
   "metadata": {},
   "outputs": [],
   "source": []
  }
 ],
 "metadata": {
  "kernelspec": {
   "display_name": "Python 3",
   "language": "python",
   "name": "python3"
  },
  "language_info": {
   "codemirror_mode": {
    "name": "ipython",
    "version": 3
   },
   "file_extension": ".py",
   "mimetype": "text/x-python",
   "name": "python",
   "nbconvert_exporter": "python",
   "pygments_lexer": "ipython3",
   "version": "3.12.3"
  }
 },
 "nbformat": 4,
 "nbformat_minor": 5
}
