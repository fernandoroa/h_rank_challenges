{
 "cells": [
  {
   "cell_type": "markdown",
   "metadata": {},
   "source": [
    "https://www.hackerrank.com/challenges/non-divisible-subset/problem"
   ]
  },
  {
   "cell_type": "code",
   "execution_count": 2,
   "metadata": {},
   "outputs": [],
   "source": [
    "def nonDivisibleSubset(k, s):\n",
    "    resid_list = list(map(lambda x: x % k, s))\n",
    "\n",
    "    count_resid = {}\n",
    "    for i in resid_list:\n",
    "        count_resid[i] = count_resid.get(i, 0) + 1\n",
    "    count_resid_tuples = list(count_resid.items())\n",
    "\n",
    "    # deal with residuals that are \"k\"(0) or half k\n",
    "    # one of them must be kept\n",
    "    if k % 2 == 0:\n",
    "        count_resid_tuples_common = list(filter(lambda x: str(int(k / 2)) != str(x[0]) and str(0) != str(x[0]), count_resid_tuples))\n",
    "        count_resid_k_halfk = list(filter(lambda x: str(int(k / 2)) == str(x[0]) or str(0) == str(x[0]), count_resid_tuples))\n",
    "    else:\n",
    "        count_resid_tuples_common = list(filter(lambda x: str(0) != str(x[0]), count_resid_tuples))\n",
    "        count_resid_k_halfk = list(filter(lambda x: str(0) == str(x[0]), count_resid_tuples))\n",
    "\n",
    "    # for k and halk k we must keep 1\n",
    "    if len(count_resid_k_halfk):\n",
    "        freq_k_halfk = list(zip(*count_resid_k_halfk))[1]\n",
    "        freq_k_halfk_minus1 = [ (x - 1) * -1 for x in freq_k_halfk]\n",
    "        sum_count_resid_k_halfk = sum(freq_k_halfk_minus1)\n",
    "    else:\n",
    "        sum_count_resid_k_halfk = 0\n",
    "\n",
    "    # create a list to drop, based on frequency\n",
    "    drop_accum = []\n",
    "    for item in count_resid_tuples_common:\n",
    "        residual = item[0]\n",
    "        complement = k - residual\n",
    "        resid_frequency = item[1]\n",
    "        complement_and_freq = list(filter(lambda x: str(complement) == str(x[0]), count_resid_tuples_common))\n",
    "        if len(complement_and_freq):\n",
    "            complement_freq = complement_and_freq[0][1]\n",
    "            # drop complement if less frequent\n",
    "            if resid_frequency > complement_freq:\n",
    "                drop_accum.append(complement)\n",
    "            elif resid_frequency < complement_freq:\n",
    "                drop_accum.append(residual)\n",
    "            # when both equally frequent, drop one only, arbitrary <\n",
    "            else: \n",
    "                if residual < complement:\n",
    "                    drop_accum.append(complement)\n",
    "\n",
    "    drop_accum = list(set(drop_accum))\n",
    "\n",
    "    frequencies_of_selected_to_drop = list(filter(lambda x: any(str(i) == str(x[0]) for i in drop_accum), count_resid_tuples))\n",
    "\n",
    "    if len(frequencies_of_selected_to_drop):\n",
    "        read_frequencies_to_remove = list(zip(*frequencies_of_selected_to_drop))[1]\n",
    "        sum_read_frequencies_to_remove = sum(read_frequencies_to_remove)\n",
    "    else:\n",
    "        sum_read_frequencies_to_remove = 0\n",
    "        \n",
    "    result = len(s) - sum_read_frequencies_to_remove + sum_count_resid_k_halfk\n",
    "\n",
    "    return result\n"
   ]
  },
  {
   "cell_type": "code",
   "execution_count": 3,
   "metadata": {},
   "outputs": [
    {
     "data": {
      "text/plain": [
       "3"
      ]
     },
     "execution_count": 3,
     "metadata": {},
     "output_type": "execute_result"
    }
   ],
   "source": [
    "S = [19,10,12,10,24,25,22]\n",
    "nonDivisibleSubset(4, S)"
   ]
  },
  {
   "cell_type": "code",
   "execution_count": 4,
   "metadata": {},
   "outputs": [
    {
     "data": {
      "text/plain": [
       "11"
      ]
     },
     "execution_count": 4,
     "metadata": {},
     "output_type": "execute_result"
    }
   ],
   "source": [
    "S = [278, 576, 496, 727, 410, 124, 338, 149, 209, 702, 282, 718, 771, 575, 436]\n",
    "nonDivisibleSubset(7, S)"
   ]
  },
  {
   "cell_type": "code",
   "execution_count": 5,
   "metadata": {},
   "outputs": [
    {
     "data": {
      "text/plain": [
       "87"
      ]
     },
     "execution_count": 5,
     "metadata": {},
     "output_type": "execute_result"
    }
   ],
   "source": [
    "s = \"61197933 56459859 319018589 271720536 358582070 849720202 481165658 675266245 541667092 615618805 129027583 755570852 437001718 86763458 791564527 163795318 981341013 516958303 592324531 611671866 157795445 718701842 773810960 72800260 281252802 404319361 757224413 682600363 606641861 986674925 176725535 256166138 827035972 124896145 37969090 136814243 274957936 980688849 293456190 141209943 346065260 550594766 132159011 491368651 3772767 131852400 633124868 148168785 339205816 705527969 551343090 824338597 241776176 286091680 919941899 728704934 37548669 513249437 888944501 239457900 977532594 140391002 260004333 911069927 586821751 113740158 370372870 97014913 28011421 489017248 492953261 73530695 27277034 570013262 81306939 519086053 993680429 599609256 639477062 677313848 950497430 672417749 266140123 601572332 273157042 777834449 123586826\"\n",
    "s = list(map(int, s.rstrip().split()))\n",
    "s\n",
    "len(s)"
   ]
  },
  {
   "cell_type": "code",
   "execution_count": 7,
   "metadata": {},
   "outputs": [
    {
     "data": {
      "text/plain": [
       "50"
      ]
     },
     "execution_count": 7,
     "metadata": {},
     "output_type": "execute_result"
    }
   ],
   "source": [
    "nonDivisibleSubset(9, s)"
   ]
  },
  {
   "cell_type": "code",
   "execution_count": null,
   "metadata": {},
   "outputs": [],
   "source": []
  }
 ],
 "metadata": {
  "kernelspec": {
   "display_name": "Python 3",
   "language": "python",
   "name": "python3"
  },
  "language_info": {
   "codemirror_mode": {
    "name": "ipython",
    "version": 3
   },
   "file_extension": ".py",
   "mimetype": "text/x-python",
   "name": "python",
   "nbconvert_exporter": "python",
   "pygments_lexer": "ipython3",
   "version": "3.12.3"
  }
 },
 "nbformat": 4,
 "nbformat_minor": 2
}
