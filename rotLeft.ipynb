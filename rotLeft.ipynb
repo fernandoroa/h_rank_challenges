{
 "cells": [
  {
   "cell_type": "markdown",
   "id": "6ce53635",
   "metadata": {},
   "source": [
    "https://www.hackerrank.com/challenges/ctci-array-left-rotation/problem"
   ]
  },
  {
   "cell_type": "code",
   "execution_count": 57,
   "id": "7b90cd54",
   "metadata": {},
   "outputs": [],
   "source": [
    "def rotLeft(a, d):\n",
    "    return a[d:] + a[:d]"
   ]
  },
  {
   "cell_type": "code",
   "execution_count": 54,
   "id": "afb5beba",
   "metadata": {},
   "outputs": [
    {
     "data": {
      "text/plain": [
       "[3, 4, 5, 1, 2]"
      ]
     },
     "execution_count": 54,
     "metadata": {},
     "output_type": "execute_result"
    }
   ],
   "source": [
    "rotLeft([1,2,3,4,5],2)"
   ]
  },
  {
   "cell_type": "code",
   "execution_count": 53,
   "id": "b8ea1a03",
   "metadata": {},
   "outputs": [],
   "source": []
  },
  {
   "cell_type": "code",
   "execution_count": 59,
   "id": "87474c77",
   "metadata": {},
   "outputs": [
    {
     "data": {
      "text/plain": [
       "[33, 47, 70, 37, 8, 53, 13, 93, 71, 72, 51, 100, 60, 87, 97]"
      ]
     },
     "execution_count": 59,
     "metadata": {},
     "output_type": "execute_result"
    }
   ],
   "source": [
    "a = \"33 47 70 37 8 53 13 93 71 72 51 100 60 87 97\"\n",
    "a = list(map(int, a.rstrip().split()))\n",
    "a"
   ]
  },
  {
   "cell_type": "code",
   "execution_count": 60,
   "id": "1c055376",
   "metadata": {},
   "outputs": [
    {
     "data": {
      "text/plain": [
       "[47, 70, 37, 8, 53, 13, 93, 71, 72, 51, 100, 60, 87, 97, 33]"
      ]
     },
     "execution_count": 60,
     "metadata": {},
     "output_type": "execute_result"
    }
   ],
   "source": [
    "rotLeft(a,1)"
   ]
  },
  {
   "cell_type": "code",
   "execution_count": null,
   "id": "c7c80436",
   "metadata": {},
   "outputs": [],
   "source": []
  }
 ],
 "metadata": {
  "kernelspec": {
   "display_name": "Python 3 (ipykernel)",
   "language": "python",
   "name": "python3"
  },
  "language_info": {
   "codemirror_mode": {
    "name": "ipython",
    "version": 3
   },
   "file_extension": ".py",
   "mimetype": "text/x-python",
   "name": "python",
   "nbconvert_exporter": "python",
   "pygments_lexer": "ipython3",
   "version": "3.12.3"
  }
 },
 "nbformat": 4,
 "nbformat_minor": 5
}
